{
 "cells": [
  {
   "cell_type": "markdown",
   "metadata": {},
   "source": [
    "# Coursera ML Ex1 - Linear Regression with Multiple Variables\n",
    "\n",
    "\n",
    "## Introduction\n",
    "In this exercise, we build an algorithm to solve a regression problem, that is to predict the  house prices in Portland, Oregon. For demonstration purpose, we use two indenpendent variables (Size of houses and No. of bedrooms) and the target dependent variable is the house price.  The following lists the data file structure. \n",
    "\n",
    "VARIABLE DESCRIPTIONS:\n",
    "* 1st column      Size of the house in sq.ft. \n",
    "+ 2nd column      No. of bedrooms \n",
    "+ 3rd column      Price of the house  "
   ]
  },
  {
   "cell_type": "code",
   "execution_count": 1,
   "metadata": {},
   "outputs": [
    {
     "name": "stdout",
     "output_type": "stream",
     "text": [
      "Loading data ...\n",
      "Training data size = 47\n",
      "List of first 5 input variables:\n",
      "[[ 2104.     3.]\n",
      " [ 1600.     3.]\n",
      " [ 2400.     3.]\n",
      " [ 1416.     2.]\n",
      " [ 3000.     4.]]\n",
      "List of first 5 trainning traget:\n",
      "[ 399900.  329900.  369000.  232000.  539900.]\n"
     ]
    }
   ],
   "source": [
    "import numpy as np\n",
    "import matplotlib.pyplot as plt\n",
    "%matplotlib inline \n",
    "\n",
    "np.set_printoptions(suppress=True)\n",
    "np.set_printoptions(precision=2)\n",
    "\n",
    "print(\"Loading data ...\")\n",
    "data = np.loadtxt('ex1data2.txt', delimiter=',')\n",
    "X = data[:, 0:2]\n",
    "y = data[:, 2]\n",
    "m = y.size\n",
    "\n",
    "print(\"Training data size = %d\"%m)\n",
    "print(\"List of first 5 input variables:\")\n",
    "print(X[:5])\n",
    "print(\"List of first 5 trainning traget:\")\n",
    "print(y[:5])\n"
   ]
  },
  {
   "cell_type": "markdown",
   "metadata": {},
   "source": [
    "## Data Normalization\n",
    "\n",
    "By looking at the values, the house sizes are a few thousand, but the number of bedrooms is single digit.  We perform feature scaling to transfrom the independent variables to simlar magnitude.\n",
    "\n",
    "$${ X }_{ norm } = \\frac { X-\\mu  }{ { \\sigma  }^{ 2 } } $$"
   ]
  },
  {
   "cell_type": "code",
   "execution_count": 2,
   "metadata": {},
   "outputs": [
    {
     "name": "stdout",
     "output_type": "stream",
     "text": [
      "List of first 5 normalized input variables:\n",
      "[[ 0.13 -0.23]\n",
      " [-0.51 -0.23]\n",
      " [ 0.51 -0.23]\n",
      " [-0.74 -1.55]\n",
      " [ 1.27  1.1 ]]\n"
     ]
    }
   ],
   "source": [
    "def featureNormalize(X):\n",
    "    mu = X.mean(0)\n",
    "    sigma2 = X.std(0)\n",
    "    #use auto broadcast\n",
    "    X_norm = (X-mu)/sigma2\n",
    "    return (X_norm, mu, sigma2)\n",
    "\n",
    "X_norm, mu, sigma2 = featureNormalize(X)\n",
    "print(\"List of first 5 normalized input variables:\")\n",
    "print(X_norm[:5])\n"
   ]
  },
  {
   "cell_type": "markdown",
   "metadata": {},
   "source": [
    "## Cost Function\n",
    "\n",
    "The hypothesis of our linear regession model is\n",
    "$${ h }_{ \\theta  }({ x })=\\sum _{ j=0 }^{ n }{ { \\theta  }_{ j }{ { x }_{ j } } }$$\n",
    "for input data with (n) features, where ${ x }_{ 0 }^{ (i) } = 1$\n",
    "\n",
    "and the objective of our algorithm is to minimize this cost function:\n",
    "$$J(\\theta )=\\frac { 1 }{ 2m } \\sum _{ i=1 }^{ m }{ { ({ h }_{ \\theta  }({ x }^{ (i) })-{ y }^{ (i) }) }^{ 2 } } $$\n"
   ]
  },
  {
   "cell_type": "code",
   "execution_count": 3,
   "metadata": {
    "collapsed": true
   },
   "outputs": [],
   "source": [
    "def computeCost(X, y, theta):\n",
    "    # sample size m in scalar\n",
    "    m = len(y)\n",
    "    # hypothesis h in (mx1)\n",
    "    h = X.dot(theta)\n",
    "    # cost\n",
    "    J = 1./(2*m)*sum((h-y)**2)\n",
    "    return J"
   ]
  },
  {
   "cell_type": "markdown",
   "metadata": {},
   "source": [
    "## Gradient Descent\n",
    "\n",
    "Batch gradient descent algorithm is used to find the optimal values for $\\theta$, and this will result the minimal cost $J(\\theta)$ iteratively.\n",
    "\n",
    "By taking differentiation to the cost function $J(\\theta)$ w.r.t. $\\theta$, we get:\n",
    "$$\\frac { \\partial J({ \\theta  }) }{ \\partial { \\theta  }_{ j } } =\\frac { 1 }{ m } \\sum _{ i=1 }^{ m }{ \\left[ ({ h }_{ \\theta  }({ x }^{ (i) })-{ y }^{ (i) }){ \\cdot x }_{ j }^{ (i) } \\right]  } \\quad \\forall j\\in (0...n)$$\n",
    "\n",
    "We then apply the following rule to update $\\theta$ step by step:\n",
    "$${ \\theta  }_{ j } \\Leftarrow { \\theta  }_{ j }-\\alpha \\frac { \\partial J({ \\theta  }) }{ \\partial { \\theta  }_{ j } } $$\n",
    "where $\\alpha$ is a constant called learning rate.\n",
    "\n",
    "With each step of gradient descent, parameters ${ \\theta  }_{ j }$ come closer and closer to the optimal values, which will finally achieve the lowest cost $J({ \\theta  })$.\n"
   ]
  },
  {
   "cell_type": "code",
   "execution_count": 4,
   "metadata": {
    "collapsed": true
   },
   "outputs": [],
   "source": [
    "def gradientDescent(X, y, init_theta, alpha, niter):\n",
    "    m = len(y)\n",
    "    theta = init_theta\n",
    "    J_hist = np.zeros(niter)\n",
    "    for t in range(0, niter):\n",
    "        h = X.dot(theta)\n",
    "        grad = 1./m * X.T.dot(h-y)\n",
    "        theta = theta - alpha * grad\n",
    "        J_hist[t] = computeCost(X, y, theta)\n",
    "    return (theta, J_hist)"
   ]
  },
  {
   "cell_type": "markdown",
   "metadata": {},
   "source": [
    "## Train the Model\n",
    "\n",
    "After defining the functions, we start to train the model.  It takes a moment.  When finished, our trained model is encapsulated in the $\\theta$ parameter. We plot the cost over iterration, the arm shaped curve indicates the cost function has converged to minimum.  "
   ]
  },
  {
   "cell_type": "code",
   "execution_count": 5,
   "metadata": {},
   "outputs": [
    {
     "data": {
      "text/plain": [
       "<matplotlib.text.Text at 0x75fa908>"
      ]
     },
     "execution_count": 5,
     "metadata": {},
     "output_type": "execute_result"
    },
    {
     "data": {
      "image/png": "[encoded data removed]",
      "text/plain": [
       "<matplotlib.figure.Figure at 0x8199588>"
      ]
     },
     "metadata": {},
     "output_type": "display_data"
    }
   ],
   "source": [
    "m = len(y)\n",
    "# prepare design matrix\n",
    "X_design = np.c_[np.ones(m), X_norm]\n",
    "n = X.shape[1]\n",
    "init_theta = np.zeros(n+1)\n",
    "alpha = 0.1\n",
    "\n",
    "theta, J_hist = gradientDescent(X_design, y, init_theta, alpha, niter=100)\n",
    "\n",
    "plt.plot(np.arange(0, 100), J_hist)\n",
    "plt.xlabel('Iterations')\n",
    "plt.ylabel('Cost')\n",
    "plt.title('Cost over trainning iterations')"
   ]
  },
  {
   "cell_type": "markdown",
   "metadata": {},
   "source": [
    "## Predict New Input\n",
    "\n",
    "We try to predict the price of a new input of houses, say a house sizes 1650 sq-ft, with 3 bedrooms. It is shown in red in the scatter plot."
   ]
  },
  {
   "cell_type": "code",
   "execution_count": 6,
   "metadata": {},
   "outputs": [
    {
     "name": "stdout",
     "output_type": "stream",
     "text": [
      "For house with 1650 sq-ft and 3 bedrooms, we estimate a price of 293214.163546\n"
     ]
    },
    {
     "data": {
      "text/plain": [
       "<matplotlib.collections.PathCollection at 0x7531278>"
      ]
     },
     "execution_count": 6,
     "metadata": {},
     "output_type": "execute_result"
    },
    {
     "data": {
      "image/png": "[encoded data removed]",
      "text/plain": [
       "<matplotlib.figure.Figure at 0x60d1eb8>"
      ]
     },
     "metadata": {},
     "output_type": "display_data"
    }
   ],
   "source": [
    "# predict the price of a 1650 sq-ft, 3 br house.\n",
    "price = 0\n",
    "X_new = (np.array([1650, 3]) - mu) / sigma2\n",
    "X_new_design = np.append(1, X_new)\n",
    "price = X_new_design.dot(theta)\n",
    "print('For house with 1650 sq-ft and 3 bedrooms, we estimate a price of %f'%price)\n",
    "\n",
    "X_3 = X[X[:,1]==3][:,0]\n",
    "y_3 = y[np.where(X[:,1]==3)]\n",
    "plt.scatter(X_3, y_3)\n",
    "plt.xlabel('Size in sq-ft')\n",
    "plt.ylabel('Price')\n",
    "plt.title('Price of houses with 3 bedrooms')\n",
    "plt.scatter(1650, price, c='r')\n"
   ]
  }
 ],
 "metadata": {
  "kernelspec": {
   "display_name": "Python 3",
   "language": "python",
   "name": "python3"
  },
  "language_info": {
   "codemirror_mode": {
    "name": "ipython",
    "version": 3
   },
   "file_extension": ".py",
   "mimetype": "text/x-python",
   "name": "python",
   "nbconvert_exporter": "python",
   "pygments_lexer": "ipython3",
   "version": "3.6.1"
  }
 },
 "nbformat": 4,
 "nbformat_minor": 1
}
