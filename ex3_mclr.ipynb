{
 "cells": [
  {
   "cell_type": "markdown",
   "metadata": {},
   "source": [
    "# Coursera ML Ex3 - Multi-classes Logistic Regression\n",
    "\n",
    "## Introduction\n",
    "In this exercise, we build an algorithm to solve a multi-classes classificication problem, that is to recognize handwritten digits images.  The features are each pixels in the image, and the target is one of the digits (0-9) that the image belongs to.  The one-vs-all technique is deployed to classify each of the classes in 10 iterations.\n"
   ]
  },
  {
   "cell_type": "code",
   "execution_count": 5,
   "metadata": {
    "collapsed": true
   },
   "outputs": [],
   "source": [
    "import numpy as np\n",
    "import matplotlib.pyplot as plt\n",
    "%matplotlib inline\n",
    "\n",
    "import scipy.io\n",
    "import scipy.optimize\n",
    "\n",
    "import seaborn as sns\n",
    "sns.set_context('notebook')\n",
    "sns.set_style('white')\n"
   ]
  },
  {
   "cell_type": "markdown",
   "metadata": {},
   "source": [
    "## Load Data\n",
    "\n",
    "The file \"ex3data1.mat\" stores 5000 training examples in MATLAB format.  Each training example is a 20 pixel by 20 pixel grayscale image of the digit.  Each pixel is represented by a floating point number indicating the grayscale intensity at that location.  The 20 by 20 grid of pixels is \"unrolled\" into a 400-dimensional vector. Each of these training examples becomes a single row in our data matrix X. This gives us a 5000 by 400 matrix X where every row is a training example for a handwritten digit image.  To obtain a fair accuracy measurement, we split 20% of the examples, i.e. 1000, and have them reserved for testing.  The training process would only involve the remaining 80% dataset."
   ]
  },
  {
   "cell_type": "code",
   "execution_count": 6,
   "metadata": {},
   "outputs": [
    {
     "name": "stdout",
     "output_type": "stream",
     "text": [
      "[ 2  4  9  2  4  8  9  3  5 10  2 10  9  4  3  1  2  4  3  2]\n"
     ]
    },
    {
     "data": {
      "text/plain": [
       "<matplotlib.image.AxesImage at 0xa1d87f0>"
      ]
     },
     "execution_count": 6,
     "metadata": {},
     "output_type": "execute_result"
    },
    {
     "data": {
      "image/png": "[encoded data removed]",
      "text/plain": [
       "<matplotlib.figure.Figure at 0xa7aff28>"
      ]
     },
     "metadata": {},
     "output_type": "display_data"
    }
   ],
   "source": [
    "data = scipy.io.loadmat('./ex3data1.mat')\n",
    "X = data['X']\n",
    "y = data['y'].reshape(-1)\n",
    "size = len(y)\n",
    "\n",
    "# shuffle data\n",
    "rindex = np.random.permutation(range(0,size))\n",
    "X_train = X[rindex[:int(size*0.8)]]\n",
    "y_train = y[rindex[:int(size*0.8)]]\n",
    "X_test = X[rindex[int(size*0.8):]]\n",
    "y_test = y[rindex[int(size*0.8):]]\n",
    "m = len(y_train)\n",
    "\n",
    "#display first 20 training data\n",
    "print(y_train[:20])\n",
    "plt.imshow(X_train[:20].reshape(-1,20).T)\n"
   ]
  },
  {
   "cell_type": "markdown",
   "metadata": {},
   "source": [
    "## Cost Function\n",
    "\n",
    "We have the logistic regression hypothesis function as follows\n",
    "\n",
    "$${ h }_{ \\theta  }(x)=g(\\sum _{ j=0 }^{ n }{ { \\theta  }_{ j }{ x }_{ j } } )\\quad ,\\quad { x }_{ 0 }=1$$\n",
    "\n",
    "where the sigmoid function \n",
    "\n",
    "$$g(z)=\\frac { 1 }{ 1+{ e }^{ -z } } $$\n",
    "\n",
    "We define the cost function with regularization as\n",
    "\n",
    "$$J(\\theta )=\\frac { 1 }{ m } \\sum _{ i=1 }^{ m } \\left[ -{ y }^{ (i) }log({ h }_{ \\theta  }({ x }^{ (i) }))-(1-{ y }^{ (i) })log({ 1-h }_{ \\theta  }({ x }^{ (i) })) \\right] +\\frac { \\lambda  }{ 2m } \\sum _{ j=1 }^{ n }{ { { \\theta  }_{ j } }^{ 2 } } $$\n",
    "\n",
    "We apply regularization as an objective to get a set of smaller $\\theta$, meanwhile minimizing the cost function $J(\\theta )$.  By having smaller $\\theta$, the model could be more generalized to unseen data.  The degree of regularization is controlled by the parameter lambda $\\lambda$.  By convention, regularization does not apply to ${ \\theta  }_{ 0 }$."
   ]
  },
  {
   "cell_type": "code",
   "execution_count": 7,
   "metadata": {},
   "outputs": [
    {
     "data": {
      "text/plain": [
       "<matplotlib.text.Text at 0xa7d1748>"
      ]
     },
     "execution_count": 7,
     "metadata": {},
     "output_type": "execute_result"
    },
    {
     "data": {
      "image/png": "[encoded data removed]",
      "text/plain": [
       "<matplotlib.figure.Figure at 0xa7b4048>"
      ]
     },
     "metadata": {},
     "output_type": "display_data"
    }
   ],
   "source": [
    "def sigmoid(z):\n",
    "    g = 1. / (1. + np.exp(-z))\n",
    "    return g\n",
    "\n",
    "# plot sigmoid fnction\n",
    "z = np.arange(-10,10,0.1)\n",
    "g = sigmoid(z)\n",
    "plt.plot(z,g)\n",
    "plt.title('Sigmoid function')\n",
    "plt.xlabel('z')\n",
    "plt.ylabel('g(z)')"
   ]
  },
  {
   "cell_type": "code",
   "execution_count": 8,
   "metadata": {
    "collapsed": true
   },
   "outputs": [],
   "source": [
    "def computeCost(theta, X, y, _lambda):\n",
    "    # hypothesis\n",
    "    h = sigmoid(X.dot(theta))\n",
    "    \n",
    "    # theta for regularization\n",
    "    theta_reg = theta\n",
    "    theta_reg[0] = 0\n",
    "    \n",
    "    # cost\n",
    "    J = 1./m * sum(-y*np.log(h)-(1.-y)*np.log(1.-h)) + _lambda/(2.*m)*sum(theta_reg**2)\n",
    "    return J"
   ]
  },
  {
   "cell_type": "markdown",
   "metadata": {},
   "source": [
    "## Gradient\n",
    "\n",
    "By taking differentiation to the cost function $J(\\theta )$, we have the gradient term for j=0:\n",
    "\n",
    "$$\\frac { \\partial J(\\theta ) }{ \\partial { \\theta  }_{ 0 } } =\\frac { 1 }{ m } \\sum _{ i=1 }^{ m } \\left[ { (h }_{ \\theta  }({ x }^{ (i) })-{ y }^{ (i) }){ \\cdot { x }_{ 0 }^{ (i) } } \\right]$$\n",
    "\n",
    "and for j>0\n",
    "\n",
    "$$\\frac { \\partial J(\\theta ) }{ \\partial { \\theta  }_{ j } } =\\frac { 1 }{ m } \\sum _{ i=1 }^{ m } \\left[ { (h }_{ \\theta  }({ x }^{ (i) })-{ y }^{ (i) }){ \\cdot { x }_{ j }^{ (i) } } \\right] +\\frac { \\lambda  }{ m } { \\theta  }_{ j }$$"
   ]
  },
  {
   "cell_type": "code",
   "execution_count": 9,
   "metadata": {
    "collapsed": true
   },
   "outputs": [],
   "source": [
    "def findGradient(theta, X, y, _lambda):\n",
    "    # hypothesis\n",
    "    h = sigmoid(X.dot(theta))\n",
    "    \n",
    "    # theta for regularization\n",
    "    theta_reg = theta\n",
    "    theta_reg[0] = 0\n",
    "    \n",
    "    # gradient\n",
    "    grad = 1./m * X.T.dot(h-y) + float(_lambda/m) * theta_reg.T\n",
    "    \n",
    "    return grad"
   ]
  },
  {
   "cell_type": "markdown",
   "metadata": {},
   "source": [
    "## Train One-vs-All Classes\n",
    "\n",
    "We implement One-vs-all classification by training multiple regularized logistic regression classifiers, one for each of\n",
    "the K classes in our dataset.  At the end, we will have all the classifier parameters in a K by (n+1) demension matrix $\\Theta$, where each row of $\\Theta$ corresponds to the learned logistic regression parameters for one class. \n",
    "\n",
    "Here, we use the adavanced gradient descent method called L-BFGS-B to acheive a greater performance for minimization.  We treat it as a block-box, but know that it would return the best estimation of $\\theta$ with the minimum of $J(\\theta )$.\n"
   ]
  },
  {
   "cell_type": "code",
   "execution_count": 10,
   "metadata": {
    "collapsed": true
   },
   "outputs": [],
   "source": [
    "def trianOneVsAll(k, X, y, _lambda):\n",
    "\n",
    "    # 10 is used to representing 0 in the provided dataset\n",
    "    if k==0: k=10\n",
    "    \n",
    "    # prepare design matrix\n",
    "    X_design = np.c_[np.ones(m), X]\n",
    "\n",
    "    # transform y from 1..10 to isK in (0,1)\n",
    "    yk = (y==k)*1\n",
    "\n",
    "    # no. of features (n)\n",
    "    n = X.shape[1] + 1\n",
    "    init_theta = np.zeros(n)\n",
    "    \n",
    "    # use the advanced gradient descent method L-BFGS-B provided in Scipy package\n",
    "    Result = scipy.optimize.minimize(fun = computeCost, \n",
    "                     x0 = init_theta,\n",
    "                     args = (X_design, yk, _lambda), \n",
    "                     method='L-BFGS-B',\n",
    "                     jac = findGradient,\n",
    "                     options=dict(maxiter=200, disp=True))\n",
    "    theta = Result.x\n",
    "    return theta"
   ]
  },
  {
   "cell_type": "code",
   "execution_count": 11,
   "metadata": {},
   "outputs": [
    {
     "name": "stdout",
     "output_type": "stream",
     "text": [
      "(10, 401)\n"
     ]
    }
   ],
   "source": [
    "n = X_train.shape[1] + 1 # no. of features\n",
    "K = 10 # no. of classes\n",
    "_lambda = 0.1 # regularization parameter\n",
    "Theta = np.zeros((K,n)) # Kxn matrix to store model parameters for each class\n",
    "\n",
    "for k in range(0, K):\n",
    "    theta_k = trianOneVsAll(k, X_train, y_train, _lambda)\n",
    "    Theta[k] = theta_k\n",
    "\n",
    "print(Theta.shape)"
   ]
  },
  {
   "cell_type": "markdown",
   "metadata": {},
   "source": [
    "## Predict Classes\n",
    "\n",
    "After the one-vs-all classifier is trained, we predict the digit for a given image.  The one-vs-all prediction function picks the class for which the corresponding logistic regression classifier outputs the highest probability, and return the class label (1, 2,..., or K) as the prediction for the testing input example.  At the end, we will have the prediction accuracy among the testing set data be computed.\n"
   ]
  },
  {
   "cell_type": "code",
   "execution_count": 12,
   "metadata": {
    "collapsed": true
   },
   "outputs": [],
   "source": [
    "def predictClass(Theta, X):\n",
    "    # prepare design matrix\n",
    "    X_design = np.c_[np.ones(len(X)), X]\n",
    "\n",
    "    # H is a mxK matrix to store hypothesis value for each instant in each class \n",
    "    H = sigmoid(X_design.dot(Theta.T)) \n",
    "    # the hypothesis class would be resulted by having the greatest H(k)\n",
    "    p = np.argmax(H, axis=1)\n",
    "    p[p==0] = 10 # use 10 to represent 0, align to input data\n",
    "    return p"
   ]
  },
  {
   "cell_type": "code",
   "execution_count": 13,
   "metadata": {},
   "outputs": [
    {
     "name": "stdout",
     "output_type": "stream",
     "text": [
      "Target:\n",
      "[9 7 9 3 8 7 6 5 1 1 7 9 3 5 6 1 8 4 1 9]\n",
      "Prediction:\n",
      "[ 9  7  9  3  2  7  6  5  1  1 10  9  3  5  6  1  8  4  1  9]\n"
     ]
    },
    {
     "data": {
      "image/png": "[encoded data removed]",
      "text/plain": [
       "<matplotlib.figure.Figure at 0xa15f6d8>"
      ]
     },
     "metadata": {},
     "output_type": "display_data"
    }
   ],
   "source": [
    "# shuffle the testing data\n",
    "rindex = np.random.permutation(range(0,len(X_test)))\n",
    "# display the first 20 input images and their labelled target\n",
    "plt.imshow(X_test[rindex[:20]].reshape(-1,20).T)\n",
    "print('Target:')\n",
    "print(y_test[rindex[:20]])\n",
    "# see if the predicted result matches\n",
    "p = predictClass(Theta, X_test[rindex[:20]])\n",
    "print('Prediction:')\n",
    "print(p)"
   ]
  },
  {
   "cell_type": "code",
   "execution_count": 14,
   "metadata": {},
   "outputs": [
    {
     "name": "stdout",
     "output_type": "stream",
     "text": [
      "Testing set data accuracy: 90.10 \n"
     ]
    }
   ],
   "source": [
    "# output the prediction accuracy in %\n",
    "p = predictClass(Theta, X_test)\n",
    "accuracy = np.mean(p==y_test)*100\n",
    "print('Testing set data accuracy: %.2f '%accuracy)"
   ]
  }
 ],
 "metadata": {
  "kernelspec": {
   "display_name": "Python 3",
   "language": "python",
   "name": "python3"
  },
  "language_info": {
   "codemirror_mode": {
    "name": "ipython",
    "version": 3
   },
   "file_extension": ".py",
   "mimetype": "text/x-python",
   "name": "python",
   "nbconvert_exporter": "python",
   "pygments_lexer": "ipython3",
   "version": "3.6.1"
  }
 },
 "nbformat": 4,
 "nbformat_minor": 1
}
